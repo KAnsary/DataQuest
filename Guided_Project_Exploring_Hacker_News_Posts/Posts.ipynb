{
 "cells": [
  {
   "cell_type": "markdown",
   "metadata": {
    "collapsed": true
   },
   "source": [
    "# Exploring Hacker News Posts(Guided Project):\n",
    "n this project, we'll work with a data set of submissions to popular technology site [Hacker News](https://news.ycombinator.com/).\n",
    "Hacker News is a site started by the startup incubator [Hacker News](https://news.ycombinator.com/), where user-submitted stories (known as \"posts\") are voted and commented upon, similar to reddit. Hacker News is extremely popular in technology and startup circles, and posts that make it to the top of Hacker News' listings can get hundreds of thousands of visitors as a result."
   ]
  },
  {
   "cell_type": "markdown",
   "metadata": {},
   "source": [
    "You can find the data set [here](https://www.kaggle.com/hacker-news/hacker-news-posts), but note that it has been reduced from almost 300,000 rows to approximately 20,000 rows by removing all submissions that did not receive any comments, and then randomly sampling from the remaining submissions. Below are descriptions of the columns:"
   ]
  },
  {
   "cell_type": "markdown",
   "metadata": {},
   "source": [
    "# Introduction\n",
    "First, let's explore our dataset\n",
    "\n",
    "Below are descriptions of the columns:\n",
    "\n",
    "* __id__: The unique identifier from Hacker News for the post\n",
    "* __title__: The title of the post\n",
    "* __url__: The URL that the posts links to, if it the post has a URL\n",
    "* __num_points__: The number of points the post acquired, calculated as the total number of upvotes minus the total number of downvotes\n",
    "* __num_comments__: The number of comments that were made on the post\n",
    "* __author__: The username of the person who submitted the post\n",
    "* __created_at__: The date and time at which the post was submitted"
   ]
  },
  {
   "cell_type": "code",
   "execution_count": 1,
   "metadata": {},
   "outputs": [
    {
     "name": "stdout",
     "output_type": "stream",
     "text": [
      "['id', 'title', 'url', 'num_points', 'num_comments', 'author', 'created_at']\n",
      "[['12224879', 'Interactive Dynamic Video', 'http://www.interactivedynamicvideo.com/', '386', '52', 'ne0phyte', '8/4/2016 11:52'], ['10975351', 'How to Use Open Source and Shut the Fuck Up at the Same Time', 'http://hueniverse.com/2016/01/26/how-to-use-open-source-and-shut-the-fuck-up-at-the-same-time/', '39', '10', 'josep2', '1/26/2016 19:30'], ['11964716', \"Florida DJs May Face Felony for April Fools' Water Joke\", 'http://www.thewire.com/entertainment/2013/04/florida-djs-april-fools-water-joke/63798/', '2', '1', 'vezycash', '6/23/2016 22:20'], ['11919867', 'Technology ventures: From Idea to Enterprise', 'https://www.amazon.com/Technology-Ventures-Enterprise-Thomas-Byers/dp/0073523429', '3', '1', 'hswarna', '6/17/2016 0:01'], ['10301696', 'Note by Note: The Making of Steinway L1037 (2007)', 'http://www.nytimes.com/2007/11/07/movies/07stein.html?_r=0', '8', '2', 'walterbell', '9/30/2015 4:12']]\n"
     ]
    }
   ],
   "source": [
    "# Read data\n",
    "import csv\n",
    "f = open('hacker_news.csv')\n",
    "hn = list(csv.reader(f))\n",
    "# Remove header\n",
    "header = hn[0]\n",
    "hn = hn[1:]\n",
    "print(header)\n",
    "print(hn[:5])"
   ]
  },
  {
   "cell_type": "markdown",
   "metadata": {
    "collapsed": true
   },
   "source": [
    "We're specifically interested in posts whose titles begin with either <mark>Ask HN</mark> or <mark>Show HN</mark>. Users submit Ask HN posts to ask the Hacker News community a specific question. Below are a couple examples:"
   ]
  },
  {
   "cell_type": "markdown",
   "metadata": {},
   "source": [
    ">Ask HN: How to improve my personal website?   \n",
    "Ask HN: Am I the only one outraged by Twitter shutting down share counts?   \n",
    "Ask HN: Aby recent changes to CSS that broke mobile?"
   ]
  },
  {
   "cell_type": "markdown",
   "metadata": {},
   "source": [
    "Likewise, users submit <mark>Show HN</mark> posts to show the Hacker News community a project, product, or just generally something interesting. Below are a couple of examples:"
   ]
  },
  {
   "cell_type": "markdown",
   "metadata": {},
   "source": [
    ">Show HN: Wio Link  ESP8266 Based Web of Things Hardware Development Platform'  \n",
    "Show HN: Something pointless I made  \n",
    "Show HN: Shanhu.io, a programming playground powered by e8vm  "
   ]
  },
  {
   "cell_type": "markdown",
   "metadata": {},
   "source": [
    "We'll compare these two types of posts to determine the following:\n",
    "\n",
    "* Do Ask HN or Show HN receive more comments on average?\n",
    "* Do posts created at a certain time receive more comments on average?"
   ]
  },
  {
   "cell_type": "markdown",
   "metadata": {
    "collapsed": true
   },
   "source": [
    "# Extracting Ask HN and Show HN Posts\n",
    "Now that we've removed the headers from <mark>hn</mark>, we're ready to filter our data. Since we're only concerned with post titles beginning with <mark>Ask HN</mark> or <mark>Show HN</mark>, we'll create new lists of lists containing just the data for those titles."
   ]
  },
  {
   "cell_type": "code",
   "execution_count": 2,
   "metadata": {},
   "outputs": [
    {
     "name": "stdout",
     "output_type": "stream",
     "text": [
      "Number of \"ASK HN\" posts: 1744\n",
      "Number of \"SHOW HN\" posts: 1162\n",
      "Number of other posts: 17194\n"
     ]
    }
   ],
   "source": [
    "#splitting dataset\n",
    "\n",
    "ask_posts=[]\n",
    "show_posts=[]\n",
    "other_posts=[]\n",
    "#splitting criteria\n",
    "for post in hn:\n",
    "    title = post[1].lower()\n",
    "    if title.startswith(\"ask hn\"):\n",
    "        ask_posts.append(post)\n",
    "    elif title.startswith(\"show hn\"):\n",
    "        show_posts.append(post)\n",
    "    else:\n",
    "        other_posts.append(post)\n",
    "print(\"Number of \\\"ASK HN\\\" posts: \"+str(len(ask_posts)))\n",
    "print(\"Number of \\\"SHOW HN\\\" posts: \"+str(len(show_posts)))\n",
    "print(\"Number of other posts: \"+str(len(other_posts)))"
   ]
  },
  {
   "cell_type": "markdown",
   "metadata": {},
   "source": [
    "# Calculating the Average Number of Comments for Ask HN and Show HN Posts"
   ]
  },
  {
   "cell_type": "code",
   "execution_count": 3,
   "metadata": {},
   "outputs": [
    {
     "name": "stdout",
     "output_type": "stream",
     "text": [
      "Average number of comments on \"ASK HN\" posts: 14.04 comments\n"
     ]
    }
   ],
   "source": [
    "#average number of comments `Ask HN` posts receive.\n",
    "total_ask_comments = 0 #total comments on ask posts\n",
    "for post in ask_posts:\n",
    "    total_ask_comments += int(post[4])\n",
    "    \n",
    "avg_ask_comments = total_ask_comments / len(ask_posts) #average of ask comments\n",
    "print(\"Average number of comments on \\\"ASK HN\\\" posts: \"+\n",
    "      str(round(avg_ask_comments,2))+\" comments\")"
   ]
  },
  {
   "cell_type": "code",
   "execution_count": 4,
   "metadata": {},
   "outputs": [
    {
     "name": "stdout",
     "output_type": "stream",
     "text": [
      "Average comments on \"SHOW HN\" posts: 10.32 comments\n"
     ]
    }
   ],
   "source": [
    "#average number of comments `Show HN` posts receive.\n",
    "total_show_comments = 0 #total comments on show posts\n",
    "for post in show_posts:\n",
    "    total_show_comments += int(post[4])\n",
    "    \n",
    "avg_show_comments = total_show_comments / len(show_posts) #average of show comments\n",
    "print(\"Average comments on \\\"SHOW HN\\\" posts: \"+\n",
    "      str(round(avg_show_comments,2))+\" comments\")"
   ]
  },
  {
   "cell_type": "markdown",
   "metadata": {},
   "source": [
    "On average, ask posts in our sample received approximately 14 comments per post, on the other hand show posts received approximately 10 comments. <mark>ASK HN</mark> posts are more lik."
   ]
  },
  {
   "cell_type": "markdown",
   "metadata": {
    "collapsed": true
   },
   "source": [
    "# Finding the Amount of Ask Posts and Comments by Hour Created\n",
    "\n",
    "Since <mark>ASK HN</mark> has more reach, so we will focus on it for the rest of the analysis.  \n",
    "Next, we'll determine if ask posts created at a certain time are more likely to attract comments."
   ]
  },
  {
   "cell_type": "code",
   "execution_count": 5,
   "metadata": {},
   "outputs": [
    {
     "data": {
      "text/plain": [
       "{'00': 447,\n",
       " '01': 683,\n",
       " '02': 1381,\n",
       " '03': 421,\n",
       " '04': 337,\n",
       " '05': 464,\n",
       " '06': 397,\n",
       " '07': 267,\n",
       " '08': 492,\n",
       " '09': 251,\n",
       " '10': 793,\n",
       " '11': 641,\n",
       " '12': 687,\n",
       " '13': 1253,\n",
       " '14': 1416,\n",
       " '15': 4477,\n",
       " '16': 1814,\n",
       " '17': 1146,\n",
       " '18': 1439,\n",
       " '19': 1188,\n",
       " '20': 1722,\n",
       " '21': 1745,\n",
       " '22': 479,\n",
       " '23': 543}"
      ]
     },
     "execution_count": 5,
     "metadata": {},
     "output_type": "execute_result"
    }
   ],
   "source": [
    "#parse date of creation and number of comments\n",
    "import datetime as dt\n",
    "result_list=[]\n",
    "for post in ask_posts:\n",
    "    created_at=post[6]\n",
    "    comments_n=int(post[4])\n",
    "    result_list.append([created_at,comments_n])\n",
    "counts_by_hour={} #count of posts per hour\n",
    "comments_by_hour={} #count of comments per hour\n",
    "date_format = \"%m/%d/%Y %H:%M\"\n",
    "for result in result_list:\n",
    "    date=result[0]\n",
    "    date=dt.datetime.strptime(date,date_format)\n",
    "    hour=date.strftime(\"%H\")\n",
    "    if hour not in counts_by_hour:\n",
    "        counts_by_hour[hour]=1\n",
    "        comments_by_hour[hour]=result[1] #adding number of comments of post\n",
    "    else:\n",
    "        counts_by_hour[hour]+=1\n",
    "        comments_by_hour[hour]+=result[1] #adding number of comments of post\n",
    "comments_by_hour"
   ]
  },
  {
   "cell_type": "markdown",
   "metadata": {
    "collapsed": true
   },
   "source": [
    "# Calculating the Average Number of Comments for Ask HN Posts by Hour"
   ]
  },
  {
   "cell_type": "code",
   "execution_count": 6,
   "metadata": {},
   "outputs": [
    {
     "data": {
      "text/plain": [
       "[['00', 8.13],\n",
       " ['01', 11.38],\n",
       " ['02', 23.81],\n",
       " ['03', 7.8],\n",
       " ['04', 7.17],\n",
       " ['05', 10.09],\n",
       " ['06', 9.02],\n",
       " ['07', 7.85],\n",
       " ['08', 10.25],\n",
       " ['09', 5.58],\n",
       " ['10', 13.44],\n",
       " ['11', 11.05],\n",
       " ['12', 9.41],\n",
       " ['13', 14.74],\n",
       " ['14', 13.23],\n",
       " ['15', 38.59],\n",
       " ['16', 16.8],\n",
       " ['17', 11.46],\n",
       " ['18', 13.2],\n",
       " ['19', 10.8],\n",
       " ['20', 21.52],\n",
       " ['21', 16.01],\n",
       " ['22', 6.75],\n",
       " ['23', 7.99]]"
      ]
     },
     "execution_count": 6,
     "metadata": {},
     "output_type": "execute_result"
    }
   ],
   "source": [
    "avg_by_hour=[]\n",
    "for hour in comments_by_hour:\n",
    "    avg_by_hour.append(\n",
    "        [hour,\n",
    "         round(comments_by_hour[hour]/counts_by_hour[hour],2)])#calc avg comments per hour\n",
    "sorted(avg_by_hour)"
   ]
  },
  {
   "cell_type": "markdown",
   "metadata": {
    "collapsed": true
   },
   "source": [
    "# Sorting and Printing Values from a List of Lists"
   ]
  },
  {
   "cell_type": "code",
   "execution_count": 7,
   "metadata": {},
   "outputs": [
    {
     "name": "stdout",
     "output_type": "stream",
     "text": [
      "[[14.74, '13'], [11.05, '11'], [11.46, '17'], [7.17, '04'], [9.41, '12'], [38.59, '15'], [13.23, '14'], [7.99, '23'], [13.44, '10'], [7.85, '07'], [16.01, '21'], [6.75, '22'], [23.81, '02'], [13.2, '18'], [5.58, '09'], [10.09, '05'], [9.02, '06'], [21.52, '20'], [8.13, '00'], [10.8, '19'], [11.38, '01'], [10.25, '08'], [16.8, '16'], [7.8, '03']]\n"
     ]
    }
   ],
   "source": [
    "swap_avg_by_hour=[]\n",
    "for hour in avg_by_hour:\n",
    "    swap_avg_by_hour.append([hour[1], hour[0]])\n",
    "print(swap_avg_by_hour)\n",
    "sorted_swap = sorted(swap_avg_by_hour, reverse=True)"
   ]
  },
  {
   "cell_type": "code",
   "execution_count": 10,
   "metadata": {},
   "outputs": [
    {
     "name": "stdout",
     "output_type": "stream",
     "text": [
      "Top 5 Hours for 'Ask HN' Comments\n",
      "15:00:38.59 average comments per post\n",
      "02:00:23.81 average comments per post\n",
      "20:00:21.52 average comments per post\n",
      "16:00:16.80 average comments per post\n",
      "21:00:16.01 average comments per post\n"
     ]
    }
   ],
   "source": [
    "print(\"Top 5 Hours for 'Ask HN' Comments\")\n",
    "template=\"{time}: {avg:.2f} average comments per post\"\n",
    "for avg, hr in sorted_swap[:5]:\n",
    "    print(template.format(\n",
    "            time=dt.datetime.strptime(hr, \"%H\").strftime(\"%H:%M\"),avg=avg))"
   ]
  },
  {
   "cell_type": "markdown",
   "metadata": {},
   "source": [
    "The hour that receives the most comments per post on average is 15:00, with an average of 38.59 comments per post.  \n",
    "There's about a 60% increase in the number of comments between the hours with the highest and second highest average number of comments.\n",
    "According to the data set [documentation](https://www.kaggle.com/hacker-news/hacker-news-posts/home), the timezone used is Eastern Time in the US."
   ]
  },
  {
   "cell_type": "markdown",
   "metadata": {
    "collapsed": true
   },
   "source": [
    "# Conclusion\n",
    "In this project, we analyzed <mark>ask posts</mark> and <mark>show posts</mark> to determine which type of posts and time received the most comments on average.  \n",
    "Based on our analysis, the maximum amount of comments a post receives, happen when the post is categorized as <mark>ask post</mark> and created between 15:00 and 16:00 est.\n",
    "\n",
    "However, it should be noted that the data set we analyzed excluded posts without any comments. Given that, it's more accurate to say that of the posts that received comments, <mark>ask posts</mark> received more comments on average, on top of that <mark>ask posts</mark> between 15:00 and 16:00 est. received the most comments on average."
   ]
  },
  {
   "cell_type": "code",
   "execution_count": null,
   "metadata": {
    "collapsed": true
   },
   "outputs": [],
   "source": []
  }
 ],
 "metadata": {
  "kernelspec": {
   "display_name": "Python 3",
   "language": "python",
   "name": "python3"
  },
  "language_info": {
   "codemirror_mode": {
    "name": "ipython",
    "version": 3
   },
   "file_extension": ".py",
   "mimetype": "text/x-python",
   "name": "python",
   "nbconvert_exporter": "python",
   "pygments_lexer": "ipython3",
   "version": "3.7.3"
  }
 },
 "nbformat": 4,
 "nbformat_minor": 2
}
