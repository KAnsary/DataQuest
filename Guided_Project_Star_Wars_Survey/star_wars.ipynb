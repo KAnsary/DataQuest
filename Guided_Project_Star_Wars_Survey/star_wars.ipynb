{
 "cells": [
  {
   "cell_type": "markdown",
   "metadata": {
    "collapsed": true
   },
   "source": [
    "# Star Wars Survey\n",
    "\n",
    "While waiting for Star Wars: [The Force Awakens](https://en.wikipedia.org/wiki/Star_Wars:_The_Force_Awakens) to come out, the team at [FiveThirtyEight](http://fivethirtyeight.com/) became interested in answering some questions about Star Wars fans. In particular, they wondered: **does the rest of America realize that “The Empire Strikes Back” is clearly the best of the bunch?**\n",
    "\n",
    "The team needed to collect data addressing this question. To do this, they surveyed Star Wars fans using the online tool SurveyMonkey. They received 835 total responses, which you download from [their GitHub repository](https://github.com/fivethirtyeight/data/tree/master/star-wars-survey).\n",
    "\n",
    "In this Project we are going to be cleaning and exploring the data set."
   ]
  },
  {
   "cell_type": "markdown",
   "metadata": {},
   "source": [
    "## Reading the data"
   ]
  },
  {
   "cell_type": "code",
   "execution_count": 1,
   "metadata": {},
   "outputs": [
    {
     "data": {
      "text/html": [
       "<div>\n",
       "<style scoped>\n",
       "    .dataframe tbody tr th:only-of-type {\n",
       "        vertical-align: middle;\n",
       "    }\n",
       "\n",
       "    .dataframe tbody tr th {\n",
       "        vertical-align: top;\n",
       "    }\n",
       "\n",
       "    .dataframe thead th {\n",
       "        text-align: right;\n",
       "    }\n",
       "</style>\n",
       "<table border=\"1\" class=\"dataframe\">\n",
       "  <thead>\n",
       "    <tr style=\"text-align: right;\">\n",
       "      <th></th>\n",
       "      <th>RespondentID</th>\n",
       "      <th>Have you seen any of the 6 films in the Star Wars franchise?</th>\n",
       "      <th>Do you consider yourself to be a fan of the Star Wars film franchise?</th>\n",
       "      <th>Which of the following Star Wars films have you seen? Please select all that apply.</th>\n",
       "      <th>Unnamed: 4</th>\n",
       "      <th>Unnamed: 5</th>\n",
       "      <th>Unnamed: 6</th>\n",
       "      <th>Unnamed: 7</th>\n",
       "      <th>Unnamed: 8</th>\n",
       "      <th>Please rank the Star Wars films in order of preference with 1 being your favorite film in the franchise and 6 being your least favorite film.</th>\n",
       "      <th>...</th>\n",
       "      <th>Unnamed: 28</th>\n",
       "      <th>Which character shot first?</th>\n",
       "      <th>Are you familiar with the Expanded Universe?</th>\n",
       "      <th>Do you consider yourself to be a fan of the Expanded Universe?ÂÃ¦</th>\n",
       "      <th>Do you consider yourself to be a fan of the Star Trek franchise?</th>\n",
       "      <th>Gender</th>\n",
       "      <th>Age</th>\n",
       "      <th>Household Income</th>\n",
       "      <th>Education</th>\n",
       "      <th>Location (Census Region)</th>\n",
       "    </tr>\n",
       "  </thead>\n",
       "  <tbody>\n",
       "    <tr>\n",
       "      <th>1</th>\n",
       "      <td>3.292880e+09</td>\n",
       "      <td>Yes</td>\n",
       "      <td>Yes</td>\n",
       "      <td>Star Wars: Episode I  The Phantom Menace</td>\n",
       "      <td>Star Wars: Episode II  Attack of the Clones</td>\n",
       "      <td>Star Wars: Episode III  Revenge of the Sith</td>\n",
       "      <td>Star Wars: Episode IV  A New Hope</td>\n",
       "      <td>Star Wars: Episode V The Empire Strikes Back</td>\n",
       "      <td>Star Wars: Episode VI Return of the Jedi</td>\n",
       "      <td>3</td>\n",
       "      <td>...</td>\n",
       "      <td>Very favorably</td>\n",
       "      <td>I don't understand this question</td>\n",
       "      <td>Yes</td>\n",
       "      <td>No</td>\n",
       "      <td>No</td>\n",
       "      <td>Male</td>\n",
       "      <td>18-29</td>\n",
       "      <td>NaN</td>\n",
       "      <td>High school degree</td>\n",
       "      <td>South Atlantic</td>\n",
       "    </tr>\n",
       "    <tr>\n",
       "      <th>2</th>\n",
       "      <td>3.292880e+09</td>\n",
       "      <td>No</td>\n",
       "      <td>NaN</td>\n",
       "      <td>NaN</td>\n",
       "      <td>NaN</td>\n",
       "      <td>NaN</td>\n",
       "      <td>NaN</td>\n",
       "      <td>NaN</td>\n",
       "      <td>NaN</td>\n",
       "      <td>NaN</td>\n",
       "      <td>...</td>\n",
       "      <td>NaN</td>\n",
       "      <td>NaN</td>\n",
       "      <td>NaN</td>\n",
       "      <td>NaN</td>\n",
       "      <td>Yes</td>\n",
       "      <td>Male</td>\n",
       "      <td>18-29</td>\n",
       "      <td>$0 - $24,999</td>\n",
       "      <td>Bachelor degree</td>\n",
       "      <td>West South Central</td>\n",
       "    </tr>\n",
       "    <tr>\n",
       "      <th>3</th>\n",
       "      <td>3.292765e+09</td>\n",
       "      <td>Yes</td>\n",
       "      <td>No</td>\n",
       "      <td>Star Wars: Episode I  The Phantom Menace</td>\n",
       "      <td>Star Wars: Episode II  Attack of the Clones</td>\n",
       "      <td>Star Wars: Episode III  Revenge of the Sith</td>\n",
       "      <td>NaN</td>\n",
       "      <td>NaN</td>\n",
       "      <td>NaN</td>\n",
       "      <td>1</td>\n",
       "      <td>...</td>\n",
       "      <td>Unfamiliar (N/A)</td>\n",
       "      <td>I don't understand this question</td>\n",
       "      <td>No</td>\n",
       "      <td>NaN</td>\n",
       "      <td>No</td>\n",
       "      <td>Male</td>\n",
       "      <td>18-29</td>\n",
       "      <td>$0 - $24,999</td>\n",
       "      <td>High school degree</td>\n",
       "      <td>West North Central</td>\n",
       "    </tr>\n",
       "    <tr>\n",
       "      <th>4</th>\n",
       "      <td>3.292763e+09</td>\n",
       "      <td>Yes</td>\n",
       "      <td>Yes</td>\n",
       "      <td>Star Wars: Episode I  The Phantom Menace</td>\n",
       "      <td>Star Wars: Episode II  Attack of the Clones</td>\n",
       "      <td>Star Wars: Episode III  Revenge of the Sith</td>\n",
       "      <td>Star Wars: Episode IV  A New Hope</td>\n",
       "      <td>Star Wars: Episode V The Empire Strikes Back</td>\n",
       "      <td>Star Wars: Episode VI Return of the Jedi</td>\n",
       "      <td>5</td>\n",
       "      <td>...</td>\n",
       "      <td>Very favorably</td>\n",
       "      <td>I don't understand this question</td>\n",
       "      <td>No</td>\n",
       "      <td>NaN</td>\n",
       "      <td>Yes</td>\n",
       "      <td>Male</td>\n",
       "      <td>18-29</td>\n",
       "      <td>$100,000 - $149,999</td>\n",
       "      <td>Some college or Associate degree</td>\n",
       "      <td>West North Central</td>\n",
       "    </tr>\n",
       "    <tr>\n",
       "      <th>5</th>\n",
       "      <td>3.292731e+09</td>\n",
       "      <td>Yes</td>\n",
       "      <td>Yes</td>\n",
       "      <td>Star Wars: Episode I  The Phantom Menace</td>\n",
       "      <td>Star Wars: Episode II  Attack of the Clones</td>\n",
       "      <td>Star Wars: Episode III  Revenge of the Sith</td>\n",
       "      <td>Star Wars: Episode IV  A New Hope</td>\n",
       "      <td>Star Wars: Episode V The Empire Strikes Back</td>\n",
       "      <td>Star Wars: Episode VI Return of the Jedi</td>\n",
       "      <td>5</td>\n",
       "      <td>...</td>\n",
       "      <td>Somewhat favorably</td>\n",
       "      <td>Greedo</td>\n",
       "      <td>Yes</td>\n",
       "      <td>No</td>\n",
       "      <td>No</td>\n",
       "      <td>Male</td>\n",
       "      <td>18-29</td>\n",
       "      <td>$100,000 - $149,999</td>\n",
       "      <td>Some college or Associate degree</td>\n",
       "      <td>West North Central</td>\n",
       "    </tr>\n",
       "  </tbody>\n",
       "</table>\n",
       "<p>5 rows × 38 columns</p>\n",
       "</div>"
      ],
      "text/plain": [
       "   RespondentID Have you seen any of the 6 films in the Star Wars franchise?  \\\n",
       "1  3.292880e+09                                                Yes             \n",
       "2  3.292880e+09                                                 No             \n",
       "3  3.292765e+09                                                Yes             \n",
       "4  3.292763e+09                                                Yes             \n",
       "5  3.292731e+09                                                Yes             \n",
       "\n",
       "  Do you consider yourself to be a fan of the Star Wars film franchise?  \\\n",
       "1                                                Yes                      \n",
       "2                                                NaN                      \n",
       "3                                                 No                      \n",
       "4                                                Yes                      \n",
       "5                                                Yes                      \n",
       "\n",
       "  Which of the following Star Wars films have you seen? Please select all that apply.  \\\n",
       "1           Star Wars: Episode I  The Phantom Menace                                    \n",
       "2                                                NaN                                    \n",
       "3           Star Wars: Episode I  The Phantom Menace                                    \n",
       "4           Star Wars: Episode I  The Phantom Menace                                    \n",
       "5           Star Wars: Episode I  The Phantom Menace                                    \n",
       "\n",
       "                                    Unnamed: 4  \\\n",
       "1  Star Wars: Episode II  Attack of the Clones   \n",
       "2                                          NaN   \n",
       "3  Star Wars: Episode II  Attack of the Clones   \n",
       "4  Star Wars: Episode II  Attack of the Clones   \n",
       "5  Star Wars: Episode II  Attack of the Clones   \n",
       "\n",
       "                                    Unnamed: 5  \\\n",
       "1  Star Wars: Episode III  Revenge of the Sith   \n",
       "2                                          NaN   \n",
       "3  Star Wars: Episode III  Revenge of the Sith   \n",
       "4  Star Wars: Episode III  Revenge of the Sith   \n",
       "5  Star Wars: Episode III  Revenge of the Sith   \n",
       "\n",
       "                          Unnamed: 6  \\\n",
       "1  Star Wars: Episode IV  A New Hope   \n",
       "2                                NaN   \n",
       "3                                NaN   \n",
       "4  Star Wars: Episode IV  A New Hope   \n",
       "5  Star Wars: Episode IV  A New Hope   \n",
       "\n",
       "                                     Unnamed: 7  \\\n",
       "1  Star Wars: Episode V The Empire Strikes Back   \n",
       "2                                           NaN   \n",
       "3                                           NaN   \n",
       "4  Star Wars: Episode V The Empire Strikes Back   \n",
       "5  Star Wars: Episode V The Empire Strikes Back   \n",
       "\n",
       "                                 Unnamed: 8  \\\n",
       "1  Star Wars: Episode VI Return of the Jedi   \n",
       "2                                       NaN   \n",
       "3                                       NaN   \n",
       "4  Star Wars: Episode VI Return of the Jedi   \n",
       "5  Star Wars: Episode VI Return of the Jedi   \n",
       "\n",
       "  Please rank the Star Wars films in order of preference with 1 being your favorite film in the franchise and 6 being your least favorite film.  \\\n",
       "1                                                  3                                                                                              \n",
       "2                                                NaN                                                                                              \n",
       "3                                                  1                                                                                              \n",
       "4                                                  5                                                                                              \n",
       "5                                                  5                                                                                              \n",
       "\n",
       "            ...                    Unnamed: 28  \\\n",
       "1           ...                 Very favorably   \n",
       "2           ...                            NaN   \n",
       "3           ...               Unfamiliar (N/A)   \n",
       "4           ...                 Very favorably   \n",
       "5           ...             Somewhat favorably   \n",
       "\n",
       "        Which character shot first?  \\\n",
       "1  I don't understand this question   \n",
       "2                               NaN   \n",
       "3  I don't understand this question   \n",
       "4  I don't understand this question   \n",
       "5                            Greedo   \n",
       "\n",
       "  Are you familiar with the Expanded Universe?  \\\n",
       "1                                          Yes   \n",
       "2                                          NaN   \n",
       "3                                           No   \n",
       "4                                           No   \n",
       "5                                          Yes   \n",
       "\n",
       "  Do you consider yourself to be a fan of the Expanded Universe?ÂÃ¦  \\\n",
       "1                                                 No                   \n",
       "2                                                NaN                   \n",
       "3                                                NaN                   \n",
       "4                                                NaN                   \n",
       "5                                                 No                   \n",
       "\n",
       "  Do you consider yourself to be a fan of the Star Trek franchise? Gender  \\\n",
       "1                                                 No                 Male   \n",
       "2                                                Yes                 Male   \n",
       "3                                                 No                 Male   \n",
       "4                                                Yes                 Male   \n",
       "5                                                 No                 Male   \n",
       "\n",
       "     Age     Household Income                         Education  \\\n",
       "1  18-29                  NaN                High school degree   \n",
       "2  18-29         $0 - $24,999                   Bachelor degree   \n",
       "3  18-29         $0 - $24,999                High school degree   \n",
       "4  18-29  $100,000 - $149,999  Some college or Associate degree   \n",
       "5  18-29  $100,000 - $149,999  Some college or Associate degree   \n",
       "\n",
       "  Location (Census Region)  \n",
       "1           South Atlantic  \n",
       "2       West South Central  \n",
       "3       West North Central  \n",
       "4       West North Central  \n",
       "5       West North Central  \n",
       "\n",
       "[5 rows x 38 columns]"
      ]
     },
     "execution_count": 1,
     "metadata": {},
     "output_type": "execute_result"
    }
   ],
   "source": [
    "import pandas as pd\n",
    "star_wars = pd.read_csv(\"star_wars.csv\", encoding=\"ISO-8859-1\")\n",
    "#dropping first row as it description on column in the survey\n",
    "star_wars = star_wars.iloc[1:]\n",
    "star_wars.head(5)"
   ]
  },
  {
   "cell_type": "markdown",
   "metadata": {},
   "source": [
    "The data has several columns, including:\n",
    "\n",
    "* <mark>RespondentID</mark> - An anonymized ID for the respondent (person taking the survey)\n",
    "* <mark>Gender</mark> - The respondent's gender\n",
    "* <mark>Age</mark> - The respondent's age\n",
    "* <mark>Household Income</mark> - The respondent's income\n",
    "* <mark>Education</mark> - The respondent's education level\n",
    "* <mark>Location (Census Region)</mark> - The respondent's location\n",
    "* <mark>Have you seen any of the 6 films in the Star Wars franchise?</mark> - Has a Yes or No response\n",
    "* <mark>Do you consider yourself to be a fan of the Star Wars film franchise?</mark> - Has a Yes or No response\n",
    "\n",
    "There are several other columns containing answers to questions about the Star Wars movies. For some questions, the respondent had to check one or more boxes. This type of data is difficult to represent in columnar format. As a result, this data set needs a lot of cleaning.\n",
    "\n",
    "First we will start with removing the invalid rows. For example, <mark>RespondentID</mark> is supposed to be a unique ID for each respondent, but it's blank in some rows."
   ]
  },
  {
   "cell_type": "markdown",
   "metadata": {
    "collapsed": true
   },
   "source": [
    "## Cleaning and Mapping Yes/No Columns\n",
    "\n",
    "The next two columns, which are:\n",
    "\n",
    "* <mark>Have you seen any of the 6 films in the Star Wars franchise?</mark>\n",
    "* <mark>Do you consider yourself to be a fan of the Star Wars film franchise?</mark>\n",
    "\n",
    "Both represent Yes/No questions. They can also be NaN where a respondent chooses not to answer a question.\n",
    "\n",
    "Both columns are currently string types, because the main values they contain are <mark>Yes</mark> and <mark>No</mark>. We can make the data a bit easier to analyze down the road by converting each column to a Boolean having only the values <mark>True</mark>, <mark>False</mark>, and <mark>NaN</mark>."
   ]
  },
  {
   "cell_type": "code",
   "execution_count": 2,
   "metadata": {},
   "outputs": [
    {
     "name": "stdout",
     "output_type": "stream",
     "text": [
      "True     936\n",
      "False    250\n",
      "Name: Have you seen any of the 6 films in the Star Wars franchise?, dtype: int64 \n",
      "\n",
      "True     552\n",
      "NaN      350\n",
      "False    284\n",
      "Name: Do you consider yourself to be a fan of the Star Wars film franchise?, dtype: int64 \n",
      "\n"
     ]
    }
   ],
   "source": [
    "#yes no map\n",
    "yes_no = {\"Yes\": True,\"No\": False}\n",
    "\n",
    "#converting columns\n",
    "cols=[\"Have you seen any of the 6 films in the Star Wars franchise?\",\n",
    "      \"Do you consider yourself to be a fan of the Star Wars film franchise?\"]\n",
    "\n",
    "for c in cols:\n",
    "    star_wars[c] = star_wars[c].map(yes_no)\n",
    "\n",
    "#checking the values\n",
    "for c in cols:\n",
    "    print(star_wars[c].value_counts(dropna=False),\"\\n\")\n"
   ]
  },
  {
   "cell_type": "markdown",
   "metadata": {},
   "source": [
    "## Cleaning and Mapping Checkbox Columns\n",
    "The next six columns represent a single checkbox question. The respondent checked off a series of boxes in response to the question, Which of the following Star Wars films have you seen? Please select all that apply.\n",
    "\n",
    "The columns for this question are:\n",
    "\n",
    "* <mark>Which of the following Star Wars films have you seen? Please select all that apply.</mark> - Whether or not the respondent saw <mark>Star Wars: Episode I The Phantom Menace.</mark>\n",
    "* <mark>Unnamed: 4</mark> - Whether or not the respondent saw <mark>Star Wars: Episode II Attack of the Clones.</mark>\n",
    "* <mark>Unnamed: 5</mark> - Whether or not the respondent saw <mark>Star Wars: Episode III Revenge of the Sith.</mark>\n",
    "* <mark>Unnamed: 6</mark> - Whether or not the respondent saw <mark>Star Wars: Episode IV A New Hope.</mark>\n",
    "* <mark>Unnamed: 7</mark> - Whether or not the respondent saw <mark>Star Wars: Episode V The Empire Strikes Back.</mark>\n",
    "* <mark>Unnamed: 8</mark> - Whether or not the respondent saw <mark>Star Wars: Episode VI Return of the Jedi.</mark>\n",
    "\n",
    "For each of these columns, if the value in a cell is the name of the movie, that means the respondent saw the movie. If the value is <mark>NaN</mark>, the respondent either didn't answer or didn't see the movie. We'll assume that they didn't see the movie."
   ]
  },
  {
   "cell_type": "code",
   "execution_count": 3,
   "metadata": {},
   "outputs": [
    {
     "name": "stdout",
     "output_type": "stream",
     "text": [
      "True     673\n",
      "False    513\n",
      "Name: seen_1, dtype: int64 \n",
      "\n",
      "False    615\n",
      "True     571\n",
      "Name: seen_2, dtype: int64 \n",
      "\n",
      "False    636\n",
      "True     550\n",
      "Name: seen_3, dtype: int64 \n",
      "\n",
      "True     607\n",
      "False    579\n",
      "Name: seen_4, dtype: int64 \n",
      "\n",
      "True     758\n",
      "False    428\n",
      "Name: seen_5, dtype: int64 \n",
      "\n",
      "True     738\n",
      "False    448\n",
      "Name: seen_6, dtype: int64 \n",
      "\n"
     ]
    }
   ],
   "source": [
    "#import needed library\n",
    "import numpy as np\n",
    "#movie map\n",
    "movie_map= {\"Star Wars: Episode I  The Phantom Menace\": True,\n",
    "            \"Star Wars: Episode II  Attack of the Clones\": True,\n",
    "            \"Star Wars: Episode III  Revenge of the Sith\": True,\n",
    "            \"Star Wars: Episode IV  A New Hope\": True,\n",
    "            \"Star Wars: Episode V The Empire Strikes Back\": True,\n",
    "            \"Star Wars: Episode VI Return of the Jedi\": True,\n",
    "            np.nan: False}\n",
    "#map our movies\n",
    "for c in star_wars.columns[3:9]:\n",
    "    star_wars[c]=star_wars[c].map(movie_map)\n",
    "#renamming movie columns\n",
    "star_wars=star_wars.rename(columns={\n",
    "    \"Which of the following Star Wars films have you seen? Please select all that apply.\": \"seen_1\",\n",
    "    \"Unnamed: 4\": \"seen_2\",\n",
    "    \"Unnamed: 5\": \"seen_3\",\n",
    "    \"Unnamed: 6\": \"seen_4\",\n",
    "    \"Unnamed: 7\": \"seen_5\",\n",
    "    \"Unnamed: 8\": \"seen_6\"})\n",
    "#checking our changes\n",
    "for c in star_wars.columns[3:9]:\n",
    "    print(star_wars[c].value_counts(dropna=False),\"\\n\")"
   ]
  },
  {
   "cell_type": "markdown",
   "metadata": {},
   "source": [
    "## Cleaning the Ranking Columns\n",
    "\n",
    "The next six columns ask the respondent to rank the Star Wars movies in order of least favorite to most favorite. 1 means the film was the most favorite, and 6 means it was the least favorite. Each of the following columns can contain the value <mark>1</mark>, <mark>2</mark>, <mark>3</mark>, <mark>4</mark>, <mark>5</mark>, <mark>6</mark>, or <mark>NaN</mark>:\n",
    "\n",
    "* <mark>Please rank the Star Wars films in order of preference with 1 being your favorite film in the franchise and 6 being your least favorite film.</mark> - How much the respondent liked <mark>Star Wars: Episode I The Phantom Menace</mark>\n",
    "* Unnamed: 10 - How much the respondent liked Star Wars: Episode II Attack of the Clones\n",
    "* <mark>Unnamed: 11</mark> - How much the respondent liked <mark>Star Wars: Episode III Revenge of the Sith</mark>\n",
    "* <mark>Unnamed: 12</mark> - How much the respondent liked <mark>Star Wars: Episode IV A New Hope</mark>\n",
    "* <mark>Unnamed: 13</mark> - How much the respondent liked <mark>Star Wars: Episode V The Empire Strikes Back</mark>\n",
    "* <mark>Unnamed: 14</mark> - How much the respondent liked <mark>Star Wars: Episode VI Return of the Jedi</mark>\n",
    "\n",
    "Fortunately, these columns don't require a lot of cleanup. We'll need to convert each column to a numeric type, though, then rename the columns so that we can tell what they represent more easily."
   ]
  },
  {
   "cell_type": "code",
   "execution_count": 4,
   "metadata": {},
   "outputs": [
    {
     "name": "stdout",
     "output_type": "stream",
     "text": [
      "NaN     351\n",
      " 4.0    237\n",
      " 6.0    168\n",
      " 3.0    130\n",
      " 1.0    129\n",
      " 5.0    100\n",
      " 2.0     71\n",
      "Name: ranking_1, dtype: int64 \n",
      "\n",
      "NaN     350\n",
      " 5.0    300\n",
      " 4.0    183\n",
      " 2.0    116\n",
      " 3.0    103\n",
      " 6.0    102\n",
      " 1.0     32\n",
      "Name: ranking_2, dtype: int64 \n",
      "\n",
      "NaN     351\n",
      " 6.0    217\n",
      " 5.0    203\n",
      " 4.0    182\n",
      " 3.0    150\n",
      " 2.0     47\n",
      " 1.0     36\n",
      "Name: ranking_3, dtype: int64 \n",
      "\n",
      "NaN     350\n",
      " 1.0    204\n",
      " 6.0    161\n",
      " 2.0    135\n",
      " 4.0    130\n",
      " 3.0    127\n",
      " 5.0     79\n",
      "Name: ranking_4, dtype: int64 \n",
      "\n",
      "NaN     350\n",
      " 1.0    289\n",
      " 2.0    235\n",
      " 5.0    118\n",
      " 3.0    106\n",
      " 4.0     47\n",
      " 6.0     41\n",
      "Name: ranking_5, dtype: int64 \n",
      "\n",
      "NaN     350\n",
      " 2.0    232\n",
      " 3.0    220\n",
      " 1.0    146\n",
      " 6.0    145\n",
      " 4.0     57\n",
      " 5.0     36\n",
      "Name: ranking_6, dtype: int64 \n",
      "\n"
     ]
    }
   ],
   "source": [
    "#convert columns to numeric\n",
    "star_wars[star_wars.columns[9:15]] = star_wars[star_wars.columns[9:15]].astype(float)\n",
    "#renamming ranking columns\n",
    "star_wars=star_wars.rename(columns={\n",
    "    \"Please rank the Star Wars films in order of preference with 1 being your favorite film in the franchise and 6 being your least favorite film.\": \"ranking_1\",\n",
    "    \"Unnamed: 10\": \"ranking_2\",\n",
    "    \"Unnamed: 11\": \"ranking_3\",\n",
    "    \"Unnamed: 12\": \"ranking_4\",\n",
    "    \"Unnamed: 13\": \"ranking_5\",\n",
    "    \"Unnamed: 14\": \"ranking_6\"})\n",
    "#checking our changes\n",
    "for c in star_wars.columns[9:15]:\n",
    "    print(star_wars[c].value_counts(dropna=False),\"\\n\")    "
   ]
  },
  {
   "cell_type": "code",
   "execution_count": 5,
   "metadata": {},
   "outputs": [
    {
     "data": {
      "text/plain": [
       "ranking_1    3.732934\n",
       "ranking_2    4.087321\n",
       "ranking_3    4.341317\n",
       "ranking_4    3.272727\n",
       "ranking_5    2.513158\n",
       "ranking_6    3.047847\n",
       "dtype: float64"
      ]
     },
     "execution_count": 5,
     "metadata": {},
     "output_type": "execute_result"
    }
   ],
   "source": [
    "star_wars[star_wars.columns[9:15]].mean()"
   ]
  },
  {
   "cell_type": "markdown",
   "metadata": {
    "collapsed": true
   },
   "source": [
    "### Checkpoint \n",
    "At this point we cleaned most of the columns using different approaches, in order to maked driving insights out of the data easier and faster.\n",
    "\n",
    "we will start with the highest ranking movie and how they compare to each other."
   ]
  },
  {
   "cell_type": "markdown",
   "metadata": {},
   "source": [
    "## Finding the Highest-Ranked Movie\n",
    "Now that we've cleaned up the ranking columns, we can find the highest-ranked movie more quickly."
   ]
  },
  {
   "cell_type": "code",
   "execution_count": 6,
   "metadata": {
    "collapsed": true
   },
   "outputs": [],
   "source": [
    "#import plotting library\n",
    "%matplotlib inline\n",
    "import matplotlib.pyplot as plt"
   ]
  },
  {
   "cell_type": "code",
   "execution_count": 7,
   "metadata": {},
   "outputs": [
    {
     "data": {
      "text/plain": [
       "<Container object of 6 artists>"
      ]
     },
     "execution_count": 7,
     "metadata": {},
     "output_type": "execute_result"
    },
    {
     "data": {
      "image/png": "[encoded data removed]",
      "text/plain": [
       "<matplotlib.figure.Figure at 0x7fa0bb0c1780>"
      ]
     },
     "metadata": {},
     "output_type": "display_data"
    }
   ],
   "source": [
    "#plotting mean ratings\n",
    "movie_ratings=star_wars[star_wars.columns[9:15]].mean()\n",
    "plt.xlabel(\"Movie\")\n",
    "plt.ylabel('Average Ranking')\n",
    "plt.bar(range(1,7),movie_ratings)"
   ]
  },
  {
   "cell_type": "markdown",
   "metadata": {},
   "source": [
    "it seems like original movies(4-6) were ranked higher than the recent ones(1-3).\n",
    "\n",
    "where 1 is the highest rating."
   ]
  },
  {
   "cell_type": "markdown",
   "metadata": {},
   "source": [
    "## Finding the Most Viewed Movie\n",
    "\n",
    "let's see the viewings of the movies across the sequels of Star Wars."
   ]
  },
  {
   "cell_type": "code",
   "execution_count": 9,
   "metadata": {},
   "outputs": [
    {
     "data": {
      "text/plain": [
       "<Container object of 6 artists>"
      ]
     },
     "execution_count": 9,
     "metadata": {},
     "output_type": "execute_result"
    },
    {
     "data": {
      "image/png": "[encoded data removed]",
      "text/plain": [
       "<matplotlib.figure.Figure at 0x7fa0b8f94588>"
      ]
     },
     "metadata": {},
     "output_type": "display_data"
    }
   ],
   "source": [
    "total_views=star_wars[star_wars.columns[3:9]].sum()\n",
    "plt.xlabel(\"Movie\")\n",
    "plt.ylabel('Viewers')\n",
    "plt.bar(range(6),total_views)"
   ]
  },
  {
   "cell_type": "markdown",
   "metadata": {},
   "source": [
    "It appears that the original movies(4-6) were seen by more respondents than the newer movies. This align with that earlier movies seem to be more well rated as well as being the most popular."
   ]
  },
  {
   "cell_type": "markdown",
   "metadata": {},
   "source": [
    "## Exploring the Data by Binary Segments\n",
    "\n",
    "We know which movies the survey population as a whole has ranked the highest. Now let's examine how certain segments of the survey population responded. There are several columns that segment our data into two groups. Here are a few examples:\n",
    "\n",
    "* <mark>Do you consider yourself to be a fan of the Star Wars film franchise?</mark> - True or False\n",
    "* <mark>Do you consider yourself to be a fan of the Star Trek franchise?</mark> - Yes or No\n",
    "* <mark>Gender</mark> - Male or Female\n",
    "\n",
    "We can split a dataframe into two groups based on a binary column by creating two subsets.\n",
    "\n",
    "The subsets will allow us to compute the most viewed movie, the highest-ranked movie, and other statistics separately for each group."
   ]
  },
  {
   "cell_type": "markdown",
   "metadata": {
    "collapsed": true
   },
   "source": [
    "### Gender \n",
    "We will split our dataset with gender as our segment and compare the results between the different segments."
   ]
  },
  {
   "cell_type": "code",
   "execution_count": 10,
   "metadata": {
    "collapsed": true
   },
   "outputs": [],
   "source": [
    "# Split according to gender\n",
    "males = star_wars[star_wars[\"Gender\"] == \"Male\"]\n",
    "females = star_wars[star_wars[\"Gender\"] == \"Female\"]"
   ]
  },
  {
   "cell_type": "markdown",
   "metadata": {},
   "source": [
    "#### Highest-ranked across segments"
   ]
  },
  {
   "cell_type": "code",
   "execution_count": 20,
   "metadata": {},
   "outputs": [
    {
     "data": {
      "text/plain": [
       "<Container object of 6 artists>"
      ]
     },
     "execution_count": 20,
     "metadata": {},
     "output_type": "execute_result"
    },
    {
     "data": {
      "image/png": "[encoded data removed]",
      "text/plain": [
       "<matplotlib.figure.Figure at 0x7fa0b8f940f0>"
      ]
     },
     "metadata": {},
     "output_type": "display_data"
    }
   ],
   "source": [
    "female_ratings=females[females.columns[9:15]].mean()\n",
    "plt.title(\"Females\")\n",
    "plt.xlabel(\"Movie\")\n",
    "plt.ylabel('Average Ranking')\n",
    "plt.bar(range(6),female_ratings)"
   ]
  },
  {
   "cell_type": "code",
   "execution_count": 21,
   "metadata": {},
   "outputs": [
    {
     "data": {
      "text/plain": [
       "<Container object of 6 artists>"
      ]
     },
     "execution_count": 21,
     "metadata": {},
     "output_type": "execute_result"
    },
    {
     "data": {
      "image/png": "[encoded data removed]",
      "text/plain": [
       "<matplotlib.figure.Figure at 0x7fa0b8db8da0>"
      ]
     },
     "metadata": {},
     "output_type": "display_data"
    }
   ],
   "source": [
    "male_ratings=males[males.columns[9:15]].mean()\n",
    "plt.title(\"Males\")\n",
    "plt.xlabel(\"Movie\")\n",
    "plt.ylabel('Average Ranking')\n",
    "plt.bar(range(6),male_ratings)"
   ]
  },
  {
   "cell_type": "markdown",
   "metadata": {},
   "source": [
    "Both genders liked original movies(4-6) more than the recent ones(1-3).\n",
    "\n",
    "where 1 is the highest rating."
   ]
  },
  {
   "cell_type": "markdown",
   "metadata": {},
   "source": [
    "#### Views across segments"
   ]
  },
  {
   "cell_type": "code",
   "execution_count": 24,
   "metadata": {},
   "outputs": [
    {
     "data": {
      "text/plain": [
       "<Container object of 6 artists>"
      ]
     },
     "execution_count": 24,
     "metadata": {},
     "output_type": "execute_result"
    },
    {
     "data": {
      "image/png": "[encoded data removed]",
      "text/plain": [
       "<matplotlib.figure.Figure at 0x7fa0b8a454e0>"
      ]
     },
     "metadata": {},
     "output_type": "display_data"
    }
   ],
   "source": [
    "female_viewers=females[females.columns[3:9]].mean()\n",
    "plt.title(\"Females\")\n",
    "plt.xlabel(\"Movie\")\n",
    "plt.ylabel('Viewers')\n",
    "plt.bar(range(6),female_viewers)"
   ]
  },
  {
   "cell_type": "code",
   "execution_count": 25,
   "metadata": {},
   "outputs": [
    {
     "data": {
      "text/plain": [
       "<Container object of 6 artists>"
      ]
     },
     "execution_count": 25,
     "metadata": {},
     "output_type": "execute_result"
    },
    {
     "data": {
      "image/png": "[encoded data removed]",
      "text/plain": [
       "<matplotlib.figure.Figure at 0x7fa0b8a35198>"
      ]
     },
     "metadata": {},
     "output_type": "display_data"
    }
   ],
   "source": [
    "male_viewers=males[males.columns[3:9]].mean()\n",
    "plt.title(\"males\")\n",
    "plt.xlabel(\"Movie\")\n",
    "plt.ylabel('Viewers')\n",
    "plt.bar(range(6),male_viewers)"
   ]
  },
  {
   "cell_type": "markdown",
   "metadata": {},
   "source": [
    "Males watch Star Wars movies more frequently than females, but they tend to be more tough critcs on the movies with lower ratings especially for newer movies (1-3) "
   ]
  },
  {
   "cell_type": "markdown",
   "metadata": {},
   "source": [
    "## More can be revealed\n",
    "\n",
    "More can be done to explore our dataset\n",
    "\n",
    "Some potential next steps:\n",
    "\n",
    "* Segmenting the data based on columns like <mark>Education</mark>, <mark>Location (Census Region)</mark>, and <mark>Which character shot first?</mark>, which aren't binary.\n",
    "* Cleaning up remaining columns 15 to 29, which contain data on the characters respondents view favorably and unfavorably.\n",
    "    * Which character do respondents like the most?\n",
    "    * Which character do respondents dislike the most?\n",
    "    * Which character is the most controversial (split between likes and dislikes)?\n",
    "    \n",
    "revealing more about Star Wars audience, which can help in the upcoming editions. "
   ]
  },
  {
   "cell_type": "code",
   "execution_count": null,
   "metadata": {
    "collapsed": true
   },
   "outputs": [],
   "source": []
  }
 ],
 "metadata": {
  "kernelspec": {
   "display_name": "Python 3",
   "language": "python",
   "name": "python3"
  },
  "language_info": {
   "codemirror_mode": {
    "name": "ipython",
    "version": 3
   },
   "file_extension": ".py",
   "mimetype": "text/x-python",
   "name": "python",
   "nbconvert_exporter": "python",
   "pygments_lexer": "ipython3",
   "version": "3.8.2"
  }
 },
 "nbformat": 4,
 "nbformat_minor": 1
}
