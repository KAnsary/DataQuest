{
 "cells": [
  {
   "cell_type": "markdown",
   "metadata": {
    "collapsed": true
   },
   "source": [
    "# Guided Project: Answering Business Questions Using SQL\n",
    "\n",
    "In this project we are going to use SQL to answer some business questions about [Chinook](https://github.com/lerocha/chinook-database).\n",
    "\n",
    "The Chinook database contains information about a fictional digital music shop - kind of like a mini-iTunes store.\n",
    "The Chinook database contains information about the artists, songs, and albums from the music shop, as well as information on the shop's employees, customers, and the customers purchases."
   ]
  },
  {
   "cell_type": "markdown",
   "metadata": {},
   "source": [
    "## Knowing our Data\n",
    "This information is contained in eleven tables, a schema diagram will help us understand the available columns and the structure of the data.\n",
    "![schema](./chinook_schema.png)\n",
    "### Connecting to database"
   ]
  },
  {
   "cell_type": "code",
   "execution_count": 2,
   "metadata": {
    "collapsed": false
   },
   "outputs": [
    {
     "data": {
      "text/plain": [
       "'Connected: None@chinook.db'"
      ]
     },
     "execution_count": 2,
     "metadata": {},
     "output_type": "execute_result"
    }
   ],
   "source": [
    "%%capture\n",
    "%load_ext sql\n",
    "%sql sqlite:///chinook.db"
   ]
  },
  {
   "cell_type": "markdown",
   "metadata": {
    "collapsed": true
   },
   "source": [
    "### Database Tables\n",
    "Getting a list of all tables and views in our database:"
   ]
  },
  {
   "cell_type": "code",
   "execution_count": 3,
   "metadata": {
    "collapsed": false
   },
   "outputs": [
    {
     "name": "stdout",
     "output_type": "stream",
     "text": [
      "Done.\n"
     ]
    },
    {
     "data": {
      "text/html": [
       "<table>\n",
       "    <tr>\n",
       "        <th>name</th>\n",
       "        <th>type</th>\n",
       "    </tr>\n",
       "    <tr>\n",
       "        <td>album</td>\n",
       "        <td>table</td>\n",
       "    </tr>\n",
       "    <tr>\n",
       "        <td>artist</td>\n",
       "        <td>table</td>\n",
       "    </tr>\n",
       "    <tr>\n",
       "        <td>customer</td>\n",
       "        <td>table</td>\n",
       "    </tr>\n",
       "    <tr>\n",
       "        <td>employee</td>\n",
       "        <td>table</td>\n",
       "    </tr>\n",
       "    <tr>\n",
       "        <td>genre</td>\n",
       "        <td>table</td>\n",
       "    </tr>\n",
       "    <tr>\n",
       "        <td>invoice</td>\n",
       "        <td>table</td>\n",
       "    </tr>\n",
       "    <tr>\n",
       "        <td>invoice_line</td>\n",
       "        <td>table</td>\n",
       "    </tr>\n",
       "    <tr>\n",
       "        <td>media_type</td>\n",
       "        <td>table</td>\n",
       "    </tr>\n",
       "    <tr>\n",
       "        <td>playlist</td>\n",
       "        <td>table</td>\n",
       "    </tr>\n",
       "    <tr>\n",
       "        <td>playlist_track</td>\n",
       "        <td>table</td>\n",
       "    </tr>\n",
       "    <tr>\n",
       "        <td>track</td>\n",
       "        <td>table</td>\n",
       "    </tr>\n",
       "</table>"
      ],
      "text/plain": [
       "[('album', 'table'),\n",
       " ('artist', 'table'),\n",
       " ('customer', 'table'),\n",
       " ('employee', 'table'),\n",
       " ('genre', 'table'),\n",
       " ('invoice', 'table'),\n",
       " ('invoice_line', 'table'),\n",
       " ('media_type', 'table'),\n",
       " ('playlist', 'table'),\n",
       " ('playlist_track', 'table'),\n",
       " ('track', 'table')]"
      ]
     },
     "execution_count": 3,
     "metadata": {},
     "output_type": "execute_result"
    }
   ],
   "source": [
    "%%sql\n",
    "SELECT\n",
    "    name,\n",
    "    type\n",
    "FROM sqlite_master\n",
    "WHERE type IN (\"table\",\"view\");"
   ]
  },
  {
   "cell_type": "markdown",
   "metadata": {},
   "source": [
    "As per our schema we have 11 tables in our data base.\n",
    "let's take a look at one table and the data it contains about artists in our store. "
   ]
  },
  {
   "cell_type": "code",
   "execution_count": 4,
   "metadata": {
    "collapsed": false
   },
   "outputs": [
    {
     "name": "stdout",
     "output_type": "stream",
     "text": [
      "Done.\n"
     ]
    },
    {
     "data": {
      "text/html": [
       "<table>\n",
       "    <tr>\n",
       "        <th>artist_id</th>\n",
       "        <th>name</th>\n",
       "    </tr>\n",
       "    <tr>\n",
       "        <td>1</td>\n",
       "        <td>AC/DC</td>\n",
       "    </tr>\n",
       "    <tr>\n",
       "        <td>2</td>\n",
       "        <td>Accept</td>\n",
       "    </tr>\n",
       "    <tr>\n",
       "        <td>3</td>\n",
       "        <td>Aerosmith</td>\n",
       "    </tr>\n",
       "    <tr>\n",
       "        <td>4</td>\n",
       "        <td>Alanis Morissette</td>\n",
       "    </tr>\n",
       "    <tr>\n",
       "        <td>5</td>\n",
       "        <td>Alice In Chains</td>\n",
       "    </tr>\n",
       "</table>"
      ],
      "text/plain": [
       "[(1, 'AC/DC'),\n",
       " (2, 'Accept'),\n",
       " (3, 'Aerosmith'),\n",
       " (4, 'Alanis Morissette'),\n",
       " (5, 'Alice In Chains')]"
      ]
     },
     "execution_count": 4,
     "metadata": {},
     "output_type": "execute_result"
    }
   ],
   "source": [
    "%%sql\n",
    "SELECT *\n",
    "FROM artist\n",
    "LIMIT 5;"
   ]
  },
  {
   "cell_type": "markdown",
   "metadata": {},
   "source": [
    "we have in artist table 2 columns:\n",
    "- <mark>artist_id</mark> unique id for each artist.\n",
    "- <mark>name</mark> name of the artist."
   ]
  },
  {
   "cell_type": "markdown",
   "metadata": {
    "collapsed": true
   },
   "source": [
    "# First Question, adding new albums:\n",
    "\n",
    "The Chinook record store has just signed a deal with a new record label, and we've been tasked with selecting the first three albums that will be added to the store, from a list of four.\n",
    "\n",
    "All four albums are by artists that don't have any tracks in the store right now - we have the artist names, and the genre of music they produce:\n",
    "\n",
    "| Artist Name | Genre |\n",
    "| ----------- | ----------- |\n",
    "| Regal | Hip-Hop |\n",
    "| Red Tone | Punk | \n",
    "| Meteor and the Girls | Pop |\n",
    "| Slim Jim Bites | Blues | \n",
    "\n",
    "The record label specializes in artists from the USA, and they have given Chinook some money to advertise the new albums in the USA, so we're interested in finding out which genres sell the best in the USA.\n",
    "\n",
    "We'll need to write a query to find out which genres sell the most tracks in the USA, write up a summary of our findings, and make a recommendation for the three artists whose albums we should purchase for the store.\n",
    "\n",
    "## Genres and their sold tracks in USA"
   ]
  },
  {
   "cell_type": "code",
   "execution_count": 5,
   "metadata": {
    "collapsed": false
   },
   "outputs": [
    {
     "name": "stdout",
     "output_type": "stream",
     "text": [
      "Done.\n"
     ]
    },
    {
     "data": {
      "text/html": [
       "<table>\n",
       "    <tr>\n",
       "        <th>genre_id</th>\n",
       "        <th>genre_name</th>\n",
       "        <th>number_tracks_sold</th>\n",
       "        <th>sold_percentage</th>\n",
       "    </tr>\n",
       "    <tr>\n",
       "        <td>1</td>\n",
       "        <td>Rock</td>\n",
       "        <td>561</td>\n",
       "        <td>0.5337773549000951</td>\n",
       "    </tr>\n",
       "    <tr>\n",
       "        <td>4</td>\n",
       "        <td>Alternative &amp; Punk</td>\n",
       "        <td>130</td>\n",
       "        <td>0.12369172216936251</td>\n",
       "    </tr>\n",
       "    <tr>\n",
       "        <td>3</td>\n",
       "        <td>Metal</td>\n",
       "        <td>124</td>\n",
       "        <td>0.11798287345385347</td>\n",
       "    </tr>\n",
       "    <tr>\n",
       "        <td>14</td>\n",
       "        <td>R&amp;B/Soul</td>\n",
       "        <td>53</td>\n",
       "        <td>0.05042816365366318</td>\n",
       "    </tr>\n",
       "    <tr>\n",
       "        <td>6</td>\n",
       "        <td>Blues</td>\n",
       "        <td>36</td>\n",
       "        <td>0.03425309229305423</td>\n",
       "    </tr>\n",
       "    <tr>\n",
       "        <td>23</td>\n",
       "        <td>Alternative</td>\n",
       "        <td>35</td>\n",
       "        <td>0.03330161750713606</td>\n",
       "    </tr>\n",
       "    <tr>\n",
       "        <td>7</td>\n",
       "        <td>Latin</td>\n",
       "        <td>22</td>\n",
       "        <td>0.02093244529019981</td>\n",
       "    </tr>\n",
       "    <tr>\n",
       "        <td>9</td>\n",
       "        <td>Pop</td>\n",
       "        <td>22</td>\n",
       "        <td>0.02093244529019981</td>\n",
       "    </tr>\n",
       "    <tr>\n",
       "        <td>17</td>\n",
       "        <td>Hip Hop/Rap</td>\n",
       "        <td>20</td>\n",
       "        <td>0.019029495718363463</td>\n",
       "    </tr>\n",
       "    <tr>\n",
       "        <td>2</td>\n",
       "        <td>Jazz</td>\n",
       "        <td>14</td>\n",
       "        <td>0.013320647002854425</td>\n",
       "    </tr>\n",
       "</table>"
      ],
      "text/plain": [
       "[(1, 'Rock', 561, 0.5337773549000951),\n",
       " (4, 'Alternative & Punk', 130, 0.12369172216936251),\n",
       " (3, 'Metal', 124, 0.11798287345385347),\n",
       " (14, 'R&B/Soul', 53, 0.05042816365366318),\n",
       " (6, 'Blues', 36, 0.03425309229305423),\n",
       " (23, 'Alternative', 35, 0.03330161750713606),\n",
       " (7, 'Latin', 22, 0.02093244529019981),\n",
       " (9, 'Pop', 22, 0.02093244529019981),\n",
       " (17, 'Hip Hop/Rap', 20, 0.019029495718363463),\n",
       " (2, 'Jazz', 14, 0.013320647002854425)]"
      ]
     },
     "execution_count": 5,
     "metadata": {},
     "output_type": "execute_result"
    }
   ],
   "source": [
    "%%sql\n",
    "WITH genre_tracks_usa AS\n",
    "    (SELECT \n",
    "         g.genre_id genre_id,\n",
    "         g.name genre_name,\n",
    "         t.track_id track_id,\n",
    "         c.country country,\n",
    "         il.quantity amount_track_sold\n",
    "     FROM genre g\n",
    "     LEFT JOIN track t\n",
    "         ON g.genre_id=t.genre_id\n",
    "     LEFT JOIN invoice_line il\n",
    "         ON t.track_id=il.track_id\n",
    "     LEFT JOIN invoice i\n",
    "         ON il.invoice_id = i.invoice_id\n",
    "     LEFT JOIN customer c\n",
    "         ON i.customer_id=c.customer_id\n",
    "    )\n",
    "\n",
    "SELECT \n",
    "    genre_id,\n",
    "    genre_name,\n",
    "    SUM(amount_track_sold) number_tracks_sold,\n",
    "    SUM(amount_track_sold)/CAST(\n",
    "                            (SELECT SUM(amount_track_sold)\n",
    "                             FROM genre_tracks_usa\n",
    "                             WHERE country=\"USA\"\n",
    "                             GROUP BY country) AS FLOAT) sold_percentage\n",
    "FROM genre_tracks_usa gtu\n",
    "WHERE country=\"USA\"\n",
    "GROUP BY genre_id\n",
    "ORDER BY 3 DESC\n",
    "LIMIT 10;\n"
   ]
  },
  {
   "cell_type": "markdown",
   "metadata": {},
   "source": [
    "The three artists whose albums we should purchase for the store, based on sales of tracks from their genres across USA before are:\n",
    "* Red Tone (Punk) \n",
    "* Meteor and the Girls (Pop)\n",
    "* Slim Jim Bites (Blues) \n",
    "\n",
    "However we should keep our eyes open for releases of Rock from the new record label. As sales of rock generate more than 53% of our sold genres in USA alone.\n",
    "\n",
    "# Second Question, analyzing employee sales performance:\n",
    "\n",
    "Each customer for the Chinook store gets assigned to a sales support agent within the company when they first make a purchase. We have been asked to analyze the purchases of customers belonging to each employee to see if any sales support agent is performing either better or worse than the others."
   ]
  },
  {
   "cell_type": "code",
   "execution_count": 6,
   "metadata": {
    "collapsed": false
   },
   "outputs": [
    {
     "name": "stdout",
     "output_type": "stream",
     "text": [
      "Done.\n"
     ]
    },
    {
     "data": {
      "text/html": [
       "<table>\n",
       "    <tr>\n",
       "        <th>employee_id</th>\n",
       "        <th>Sales_Support_Agent</th>\n",
       "        <th>hire_date</th>\n",
       "        <th>city</th>\n",
       "        <th>state</th>\n",
       "        <th>country</th>\n",
       "        <th>number_customers</th>\n",
       "        <th>total_sales</th>\n",
       "    </tr>\n",
       "    <tr>\n",
       "        <td>3</td>\n",
       "        <td>Jane Peacock</td>\n",
       "        <td>2017-04-01 00:00:00</td>\n",
       "        <td>Calgary</td>\n",
       "        <td>AB</td>\n",
       "        <td>Canada</td>\n",
       "        <td>21</td>\n",
       "        <td>1731.510000000004</td>\n",
       "    </tr>\n",
       "    <tr>\n",
       "        <td>4</td>\n",
       "        <td>Margaret Park</td>\n",
       "        <td>2017-05-03 00:00:00</td>\n",
       "        <td>Calgary</td>\n",
       "        <td>AB</td>\n",
       "        <td>Canada</td>\n",
       "        <td>20</td>\n",
       "        <td>1584.0000000000032</td>\n",
       "    </tr>\n",
       "    <tr>\n",
       "        <td>5</td>\n",
       "        <td>Steve Johnson</td>\n",
       "        <td>2017-10-17 00:00:00</td>\n",
       "        <td>Calgary</td>\n",
       "        <td>AB</td>\n",
       "        <td>Canada</td>\n",
       "        <td>18</td>\n",
       "        <td>1393.9200000000028</td>\n",
       "    </tr>\n",
       "</table>"
      ],
      "text/plain": [
       "[(3, 'Jane Peacock', '2017-04-01 00:00:00', 'Calgary', 'AB', 'Canada', 21, 1731.510000000004),\n",
       " (4, 'Margaret Park', '2017-05-03 00:00:00', 'Calgary', 'AB', 'Canada', 20, 1584.0000000000032),\n",
       " (5, 'Steve Johnson', '2017-10-17 00:00:00', 'Calgary', 'AB', 'Canada', 18, 1393.9200000000028)]"
      ]
     },
     "execution_count": 6,
     "metadata": {},
     "output_type": "execute_result"
    }
   ],
   "source": [
    "%%sql\n",
    "WITH number_customers AS\n",
    "    (SELECT \n",
    "     support_rep_id,\n",
    "     COUNT(customer_id) number_customers    \n",
    "     FROM customer\n",
    "     GROUP BY support_rep_id)\n",
    "    \n",
    "    \n",
    "SELECT \n",
    "    e.employee_id employee_id,\n",
    "    e.first_name||' '||e.last_name Sales_Support_Agent,\n",
    "    e.hire_date hire_date,\n",
    "    e.city city,\n",
    "    e.state state,\n",
    "    e.country country,\n",
    "    n_c.number_customers number_customers,\n",
    "    SUM(i.total) total_sales\n",
    "FROM employee e\n",
    "LEFT JOIN customer c \n",
    "    ON e.employee_id=c.support_rep_id\n",
    "LEFT JOIN invoice i\n",
    "    ON c.customer_id=i.customer_id\n",
    "LEFT JOIN number_customers n_c\n",
    "    ON e.employee_id=n_c.support_rep_id\n",
    "WHERE title=\"Sales Support Agent\"\n",
    "GROUP BY e.employee_id\n",
    "ORDER BY total_sales DESC;"
   ]
  },
  {
   "cell_type": "markdown",
   "metadata": {},
   "source": [
    "Our top sales support agent is Jane Peacock with a difference from our bottom sales support agent of almost 25%, let's explore why the reason for that is.\n",
    "\n",
    "Location of work is not the reason since they are at the same city, however there are difference in number of customer they are supporting 21 against 18, another reason is the hiring date at the store with a difference of half a year between them.\n",
    "\n",
    "let's explore deeper developing a KPI of their performance against number of customers they support."
   ]
  },
  {
   "cell_type": "code",
   "execution_count": 7,
   "metadata": {
    "collapsed": false
   },
   "outputs": [
    {
     "name": "stdout",
     "output_type": "stream",
     "text": [
      "Done.\n"
     ]
    },
    {
     "data": {
      "text/html": [
       "<table>\n",
       "    <tr>\n",
       "        <th>employee_id</th>\n",
       "        <th>Sales_Support_Agent</th>\n",
       "        <th>sales_per_customer</th>\n",
       "    </tr>\n",
       "    <tr>\n",
       "        <td>3</td>\n",
       "        <td>Jane Peacock</td>\n",
       "        <td>82.45285714285734</td>\n",
       "    </tr>\n",
       "    <tr>\n",
       "        <td>4</td>\n",
       "        <td>Margaret Park</td>\n",
       "        <td>79.20000000000016</td>\n",
       "    </tr>\n",
       "    <tr>\n",
       "        <td>5</td>\n",
       "        <td>Steve Johnson</td>\n",
       "        <td>77.44000000000015</td>\n",
       "    </tr>\n",
       "</table>"
      ],
      "text/plain": [
       "[(3, 'Jane Peacock', 82.45285714285734),\n",
       " (4, 'Margaret Park', 79.20000000000016),\n",
       " (5, 'Steve Johnson', 77.44000000000015)]"
      ]
     },
     "execution_count": 7,
     "metadata": {},
     "output_type": "execute_result"
    }
   ],
   "source": [
    "%%sql\n",
    "WITH number_customers AS\n",
    "    (SELECT \n",
    "     support_rep_id,\n",
    "     COUNT(customer_id) number_customers    \n",
    "     FROM customer\n",
    "     GROUP BY support_rep_id),   \n",
    "    employee_sales AS\n",
    "    (SELECT \n",
    "        e.employee_id employee_id,\n",
    "        e.first_name||' '||e.last_name Sales_Support_Agent,\n",
    "        e.hire_date hire_date,\n",
    "        e.city city,\n",
    "        e.state state,\n",
    "        e.country country,\n",
    "        n_c.number_customers number_customers,\n",
    "        SUM(i.total) total_sales\n",
    "    FROM employee e\n",
    "    LEFT JOIN customer c \n",
    "        ON e.employee_id=c.support_rep_id\n",
    "    LEFT JOIN invoice i\n",
    "        ON c.customer_id=i.customer_id\n",
    "    LEFT JOIN number_customers n_c\n",
    "        ON e.employee_id=n_c.support_rep_id\n",
    "    WHERE title=\"Sales Support Agent\"\n",
    "    GROUP BY e.employee_id\n",
    "    ORDER BY total_sales DESC)\n",
    "\n",
    "SELECT \n",
    "    employee_id,\n",
    "    Sales_Support_Agent,\n",
    "    total_sales/number_customers sales_per_customer  \n",
    "FROM employee_sales\n",
    "ORDER BY 3 DESC;"
   ]
  },
  {
   "cell_type": "markdown",
   "metadata": {},
   "source": [
    "Still here Jane Peacock\tis our top performer, we can evaluate their performance deeper next quarter against this quarter performance and check if their performance is improving taking into consideration their time in the store.\n",
    "# Third Question, analyzing sales by country:\n",
    "Our next task is to analyze the sales data for customers from each different country.\n",
    "\n",
    "In particular, we are going to calculate data, for each country, on the:\n",
    "* total number of customers\n",
    "* total value of sales\n",
    "* average value of sales per customer\n",
    "* average order value\n",
    "\n",
    "Because there are a number of countries with only one customer, we will group these customers as \"Other\" in our analysis. "
   ]
  },
  {
   "cell_type": "code",
   "execution_count": 8,
   "metadata": {
    "collapsed": false
   },
   "outputs": [
    {
     "name": "stdout",
     "output_type": "stream",
     "text": [
      "Done.\n"
     ]
    },
    {
     "data": {
      "text/html": [
       "<table>\n",
       "    <tr>\n",
       "        <th>country</th>\n",
       "        <th>number_customers</th>\n",
       "        <th>sales</th>\n",
       "        <th>customer_lifetime_value</th>\n",
       "        <th>average_order</th>\n",
       "    </tr>\n",
       "    <tr>\n",
       "        <td>Czech Republic</td>\n",
       "        <td>2</td>\n",
       "        <td>273.24000000000007</td>\n",
       "        <td>136.62000000000003</td>\n",
       "        <td>9.108000000000002</td>\n",
       "    </tr>\n",
       "    <tr>\n",
       "        <td>United Kingdom</td>\n",
       "        <td>3</td>\n",
       "        <td>245.52</td>\n",
       "        <td>81.84</td>\n",
       "        <td>8.768571428571429</td>\n",
       "    </tr>\n",
       "    <tr>\n",
       "        <td>India</td>\n",
       "        <td>2</td>\n",
       "        <td>183.14999999999998</td>\n",
       "        <td>91.57499999999999</td>\n",
       "        <td>8.72142857142857</td>\n",
       "    </tr>\n",
       "    <tr>\n",
       "        <td>Germany</td>\n",
       "        <td>4</td>\n",
       "        <td>334.62</td>\n",
       "        <td>83.655</td>\n",
       "        <td>8.161463414634147</td>\n",
       "    </tr>\n",
       "    <tr>\n",
       "        <td>USA</td>\n",
       "        <td>13</td>\n",
       "        <td>1040.4899999999998</td>\n",
       "        <td>80.0376923076923</td>\n",
       "        <td>7.942671755725189</td>\n",
       "    </tr>\n",
       "    <tr>\n",
       "        <td>France</td>\n",
       "        <td>5</td>\n",
       "        <td>389.0699999999999</td>\n",
       "        <td>77.81399999999998</td>\n",
       "        <td>7.781399999999998</td>\n",
       "    </tr>\n",
       "    <tr>\n",
       "        <td>Canada</td>\n",
       "        <td>8</td>\n",
       "        <td>535.5900000000001</td>\n",
       "        <td>66.94875000000002</td>\n",
       "        <td>7.047236842105265</td>\n",
       "    </tr>\n",
       "    <tr>\n",
       "        <td>Brazil</td>\n",
       "        <td>5</td>\n",
       "        <td>427.68000000000006</td>\n",
       "        <td>85.53600000000002</td>\n",
       "        <td>7.0111475409836075</td>\n",
       "    </tr>\n",
       "    <tr>\n",
       "        <td>Portugal</td>\n",
       "        <td>2</td>\n",
       "        <td>185.13000000000002</td>\n",
       "        <td>92.56500000000001</td>\n",
       "        <td>6.383793103448276</td>\n",
       "    </tr>\n",
       "    <tr>\n",
       "        <td>Other</td>\n",
       "        <td>15</td>\n",
       "        <td>1094.9400000000003</td>\n",
       "        <td>72.99600000000002</td>\n",
       "        <td>7.44857142857143</td>\n",
       "    </tr>\n",
       "</table>"
      ],
      "text/plain": [
       "[('Czech Republic', 2, 273.24000000000007, 136.62000000000003, 9.108000000000002),\n",
       " ('United Kingdom', 3, 245.52, 81.84, 8.768571428571429),\n",
       " ('India', 2, 183.14999999999998, 91.57499999999999, 8.72142857142857),\n",
       " ('Germany', 4, 334.62, 83.655, 8.161463414634147),\n",
       " ('USA', 13, 1040.4899999999998, 80.0376923076923, 7.942671755725189),\n",
       " ('France', 5, 389.0699999999999, 77.81399999999998, 7.781399999999998),\n",
       " ('Canada', 8, 535.5900000000001, 66.94875000000002, 7.047236842105265),\n",
       " ('Brazil', 5, 427.68000000000006, 85.53600000000002, 7.0111475409836075),\n",
       " ('Portugal', 2, 185.13000000000002, 92.56500000000001, 6.383793103448276),\n",
       " ('Other', 15, 1094.9400000000003, 72.99600000000002, 7.44857142857143)]"
      ]
     },
     "execution_count": 8,
     "metadata": {},
     "output_type": "execute_result"
    }
   ],
   "source": [
    "%%sql\n",
    "WITH country_customers AS\n",
    "    (SELECT\n",
    "         CASE \n",
    "             WHEN(SELECT COUNT(*)\n",
    "                  FROM customer\n",
    "                  WHERE country=c.country)>1 THEN c.country\n",
    "             ELSE \"Other\"\n",
    "         END AS country,\n",
    "         CASE \n",
    "             WHEN(SELECT COUNT(*)\n",
    "                  FROM customer\n",
    "                  WHERE country=c.country)>1 THEN 0\n",
    "             ELSE 1\n",
    "         END AS other,\n",
    "         c.customer_id,\n",
    "         i.invoice_id,\n",
    "         i.total\n",
    "    FROM customer c\n",
    "    INNER JOIN invoice i\n",
    "        ON c.customer_id=i.customer_id)\n",
    "       \n",
    "SELECT \n",
    "    country,\n",
    "    COUNT(DISTINCT customer_id) number_customers,\n",
    "    SUM(total) sales,\n",
    "    SUM(total)/COUNT(DISTINCT customer_id) customer_lifetime_value,\n",
    "    SUM(total)/COUNT(DISTINCT invoice_id) average_order\n",
    "FROM country_customers\n",
    "GROUP BY country\n",
    "ORDER BY other, average_order DESC;"
   ]
  },
  {
   "cell_type": "markdown",
   "metadata": {},
   "source": [
    "Based on our summary about sales across countries, the average customer order in Czech Republic, United Kingdom and India spend the most per order. so getting more orders from customers in those countries at our store can boost our sales more.\n",
    "\n",
    "It must be noted that the amount of data from each of those countries is relatively low giving us low confidence in concluding findings. we have to proceed with our marketing campaign budget cautiously.\n",
    "\n",
    "A better recommendation would be start small marketing campaigns in those countries and then analysing the results further to make better understanding of customers in those locations."
   ]
  },
  {
   "cell_type": "markdown",
   "metadata": {},
   "source": [
    "# Last Question, Albums vs Individual Tracks:\n",
    "\n",
    "The Chinook store is setup in a way that allows customer to make purchases in one of the two ways:\n",
    "* purchase a whole album\n",
    "* purchase a collection of one or more individual tracks.\n",
    "\n",
    "The store does not let customers purchase a whole album, and then add individual tracks to that same purchase (unless they do that by choosing each track manually). When customers purchase albums they are charged the same price as if they had purchased each of those tracks separately.\n",
    "\n",
    "Management are currently considering changing their purchasing strategy to save money. The strategy they are considering is to purchase only the most popular tracks from each album from record companies, instead of purchasing every track from an album.\n",
    "\n",
    "We have been asked to find out what percentage of purchases are individual tracks vs whole albums, so that management can use this data to understand the effect this decision might have on overall revenue.\n",
    "\n",
    "We have a couple of 'edge cases' which prevent us from getting a 100% accurate answer to our question. In this instance, we have two edge cases to consider:\n",
    "* Albums that have only one or two tracks are likely to be purchased by customers as part of a collection of individual tracks.\n",
    "* Customers may decide to manually select every track from an album, and then add a few individual tracks from other albums to their purchase.\n",
    "\n",
    "In the first case, since our analysis is concerned with maximizing revenue we can safely ignore albums consisting of only a few tracks. The company has previously done analysis to confirm that the second case does not happen often, so we can ignore this case also."
   ]
  },
  {
   "cell_type": "markdown",
   "metadata": {},
   "source": [
    "## Our approach:\n",
    "We are going to compare album purchases invoices volume to track purchases invoices volume. and with that we could gauge the purchases through our store to make an informed decision."
   ]
  },
  {
   "cell_type": "code",
   "execution_count": 24,
   "metadata": {
    "collapsed": false
   },
   "outputs": [
    {
     "name": "stdout",
     "output_type": "stream",
     "text": [
      "Done.\n"
     ]
    },
    {
     "data": {
      "text/html": [
       "<table>\n",
       "    <tr>\n",
       "        <th>purchase_type</th>\n",
       "        <th>invoices_volume</th>\n",
       "        <th>invoices_percentage</th>\n",
       "    </tr>\n",
       "    <tr>\n",
       "        <td>Album</td>\n",
       "        <td>114</td>\n",
       "        <td>18.566775244299674</td>\n",
       "    </tr>\n",
       "    <tr>\n",
       "        <td>tracks</td>\n",
       "        <td>500</td>\n",
       "        <td>81.43322475570032</td>\n",
       "    </tr>\n",
       "</table>"
      ],
      "text/plain": [
       "[('Album', 114, 18.566775244299674), ('tracks', 500, 81.43322475570032)]"
      ]
     },
     "execution_count": 24,
     "metadata": {},
     "output_type": "execute_result"
    }
   ],
   "source": [
    "%%sql\n",
    "WITH invoice_tracks AS\n",
    "    (SELECT\n",
    "         il.invoice_id,\n",
    "         il.track_id,\n",
    "         t.album_id\n",
    "     FROM invoice_line il\n",
    "     INNER JOIN track t\n",
    "         ON il.track_id=t.track_id\n",
    "    ),\n",
    "    invoice_info AS\n",
    "    (\n",
    "    SELECT \n",
    "        i_t.*,\n",
    "        CASE \n",
    "            WHEN (\n",
    "                ((SELECT i_t1.track_id \n",
    "                 FROM invoice_tracks i_t1\n",
    "                 WHERE i_t1.invoice_id=i_t.invoice_id\n",
    "                 EXCEPT\n",
    "                 SELECT t1.track_id \n",
    "                 FROM track t1\n",
    "                 WHERE t1.album_id=i_t.album_id) IS NULL\n",
    "                 AND\n",
    "                 (             \n",
    "                 SELECT t2.track_id \n",
    "                 FROM track t2\n",
    "                 WHERE t2.album_id=i_t.album_id\n",
    "                 EXCEPT\n",
    "                 SELECT i_t2.track_id \n",
    "                 FROM invoice_tracks i_t2\n",
    "                 WHERE i_t2.invoice_id=i_t.invoice_id) IS NULL)\n",
    "                 ) THEN \"album\"\n",
    "            ELSE \"tracks\"\n",
    "        END AS purchase_type\n",
    "    FROM invoice_tracks i_t),\n",
    "    invoice_type AS\n",
    "    (SELECT \n",
    "         DISTINCT invoice_id,\n",
    "         purchase_type         \n",
    "    FROM invoice_info)\n",
    "    \n",
    "SELECT \n",
    "    purchase_type,\n",
    "    COUNT(invoice_id) invoices_volume,\n",
    "    (CAST(COUNT(invoice_id) AS FLOAT)/(SELECT COUNT(invoice_id)\n",
    "                                       FROM invoice))*100 invoices_percentage\n",
    "FROM invoice_type\n",
    "GROUP BY purchase_type"
   ]
  },
  {
   "cell_type": "markdown",
   "metadata": {},
   "source": [
    "Looking at the results, the vast majority of sales are tracks about four fifths of invoices are tracks and almost a fifth are album sales. so a considerate amount of our sales are still albums. \n",
    "\n",
    "A recommendation against only buying tracks from record companies is the better decision for the time being so as not to lose the sales of albums to competitors."
   ]
  }
 ],
 "metadata": {
  "kernelspec": {
   "display_name": "Python 3",
   "language": "python",
   "name": "python3"
  },
  "language_info": {
   "codemirror_mode": {
    "name": "ipython",
    "version": 3
   },
   "file_extension": ".py",
   "mimetype": "text/x-python",
   "name": "python",
   "nbconvert_exporter": "python",
   "pygments_lexer": "ipython3",
   "version": "3.4.3"
  }
 },
 "nbformat": 4,
 "nbformat_minor": 2
}
